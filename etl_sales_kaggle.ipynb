{
 "cells": [
  {
   "cell_type": "code",
   "execution_count": 1,
   "id": "1631812b",
   "metadata": {},
   "outputs": [
    {
     "name": "stdout",
     "output_type": "stream",
     "text": [
      "Kaggle is already installed.\n",
      "MySQL is already installed.\n",
      "SQLAlchemy is already installed\n",
      "pymysql is already installed\n"
     ]
    }
   ],
   "source": [
    "try:\n",
    "    import kaggle\n",
    "    print(\"Kaggle is already installed.\")\n",
    "except ImportError:\n",
    "    print(\"Kaggle is not installed. Installing now...\")\n",
    "    !pip install kaggle\n",
    "\n",
    "from kaggle.api.kaggle_api_extended import KaggleApi\n",
    "import os\n",
    "import shutil\n",
    "import pandas as pd\n",
    "import json\n",
    "\n",
    "try:\n",
    "    import mysql.connector\n",
    "    from mysql.connector import Error\n",
    "    print(\"MySQL is already installed.\")\n",
    "except:\n",
    "    print(\"MYSQL is not installed. Installing now...\")\n",
    "    !pip install mysql-connector-python\n",
    "    import mysql.connector\n",
    "    from mysql.connector import Error\n",
    "try:\n",
    "    from sqlalchemy import create_engine\n",
    "    print(\"SQLAlchemy is already installed\")\n",
    "except:\n",
    "    print(\"Installing now...\")\n",
    "    !pip install sqlalchemy\n",
    "    from sqlalchemy import create_engine\n",
    "    \n",
    "try:\n",
    "    import pymysql\n",
    "    print(\"pymysql is already installed\")\n",
    "except:\n",
    "    print(\"Installing now...\")\n",
    "    !pip install pymysql\n",
    "    import pymysql\n"
   ]
  },
  {
   "cell_type": "code",
   "execution_count": 2,
   "id": "a24550e2",
   "metadata": {},
   "outputs": [],
   "source": [
    "api = KaggleApi()\n",
    "api.authenticate()"
   ]
  },
  {
   "cell_type": "code",
   "execution_count": 3,
   "id": "61702855",
   "metadata": {},
   "outputs": [],
   "source": [
    "sales_datasets = api.dataset_list(search = 'sales')"
   ]
  },
  {
   "cell_type": "code",
   "execution_count": 4,
   "id": "f0eb631e",
   "metadata": {},
   "outputs": [
    {
     "data": {
      "text/plain": [
       "[aungpyaeap/supermarket-sales,\n",
       " mikhail1681/walmart-sales,\n",
       " ihelon/coffee-sales,\n",
       " karkavelrajaj/amazon-sales-dataset,\n",
       " gregorut/videogamesales,\n",
       " rohitsahoo/sales-forecasting,\n",
       " syedanwarafridi/vehicle-sales-data,\n",
       " ishanshrivastava28/superstore-sales,\n",
       " hosubjeong/bakery-sales,\n",
       " aslanahmedov/walmart-sales-forecast,\n",
       " kyanyoga/sample-sales-data,\n",
       " new-york-city/nyc-property-sales,\n",
       " mohammadtalib786/retail-sales-dataset,\n",
       " gagandeep16/car-sales,\n",
       " ddosad/auto-sales-data,\n",
       " thedevastator/unlock-profits-with-e-commerce-sales-data,\n",
       " milanzdravkovic/pharma-sales-data,\n",
       " matinmahmoudi/sales-and-satisfaction,\n",
       " missionjee/car-sales-report,\n",
       " xontoloyo/data-penjualan-zara]"
      ]
     },
     "execution_count": 4,
     "metadata": {},
     "output_type": "execute_result"
    }
   ],
   "source": [
    "sales_datasets"
   ]
  },
  {
   "cell_type": "code",
   "execution_count": 5,
   "id": "262a81b6",
   "metadata": {},
   "outputs": [
    {
     "name": "stdout",
     "output_type": "stream",
     "text": [
      "Folder 'dataset' created successfully.\n"
     ]
    }
   ],
   "source": [
    "# Create a folder\n",
    "folder_name = \"dataset\"\n",
    "if os.path.exists(folder_name+'/'):\n",
    "    shutil.rmtree(folder_name)\n",
    "os.mkdir(folder_name)\n",
    "print(f\"Folder '{folder_name}' created successfully.\")"
   ]
  },
  {
   "cell_type": "code",
   "execution_count": 6,
   "id": "7f08fb0d",
   "metadata": {},
   "outputs": [
    {
     "name": "stdout",
     "output_type": "stream",
     "text": [
      "aungpyaeap/supermarket-sales\n",
      "Dataset URL: https://www.kaggle.com/datasets/aungpyaeap/supermarket-sales\n",
      "mikhail1681/walmart-sales\n",
      "Dataset URL: https://www.kaggle.com/datasets/mikhail1681/walmart-sales\n",
      "ihelon/coffee-sales\n",
      "Dataset URL: https://www.kaggle.com/datasets/ihelon/coffee-sales\n",
      "karkavelrajaj/amazon-sales-dataset\n",
      "Dataset URL: https://www.kaggle.com/datasets/karkavelrajaj/amazon-sales-dataset\n",
      "gregorut/videogamesales\n",
      "Dataset URL: https://www.kaggle.com/datasets/gregorut/videogamesales\n",
      "rohitsahoo/sales-forecasting\n",
      "Dataset URL: https://www.kaggle.com/datasets/rohitsahoo/sales-forecasting\n",
      "syedanwarafridi/vehicle-sales-data\n",
      "Dataset URL: https://www.kaggle.com/datasets/syedanwarafridi/vehicle-sales-data\n",
      "ishanshrivastava28/superstore-sales\n",
      "Dataset URL: https://www.kaggle.com/datasets/ishanshrivastava28/superstore-sales\n",
      "hosubjeong/bakery-sales\n",
      "Dataset URL: https://www.kaggle.com/datasets/hosubjeong/bakery-sales\n",
      "aslanahmedov/walmart-sales-forecast\n",
      "Dataset URL: https://www.kaggle.com/datasets/aslanahmedov/walmart-sales-forecast\n",
      "kyanyoga/sample-sales-data\n",
      "Dataset URL: https://www.kaggle.com/datasets/kyanyoga/sample-sales-data\n",
      "new-york-city/nyc-property-sales\n",
      "Dataset URL: https://www.kaggle.com/datasets/new-york-city/nyc-property-sales\n",
      "mohammadtalib786/retail-sales-dataset\n",
      "Dataset URL: https://www.kaggle.com/datasets/mohammadtalib786/retail-sales-dataset\n",
      "gagandeep16/car-sales\n",
      "Dataset URL: https://www.kaggle.com/datasets/gagandeep16/car-sales\n",
      "ddosad/auto-sales-data\n",
      "Dataset URL: https://www.kaggle.com/datasets/ddosad/auto-sales-data\n",
      "thedevastator/unlock-profits-with-e-commerce-sales-data\n",
      "Dataset URL: https://www.kaggle.com/datasets/thedevastator/unlock-profits-with-e-commerce-sales-data\n",
      "milanzdravkovic/pharma-sales-data\n",
      "Dataset URL: https://www.kaggle.com/datasets/milanzdravkovic/pharma-sales-data\n",
      "matinmahmoudi/sales-and-satisfaction\n",
      "Dataset URL: https://www.kaggle.com/datasets/matinmahmoudi/sales-and-satisfaction\n",
      "missionjee/car-sales-report\n",
      "Dataset URL: https://www.kaggle.com/datasets/missionjee/car-sales-report\n",
      "xontoloyo/data-penjualan-zara\n",
      "Dataset URL: https://www.kaggle.com/datasets/xontoloyo/data-penjualan-zara\n"
     ]
    }
   ],
   "source": [
    "for sales in sales_datasets:\n",
    "    print(sales)\n",
    "    api.dataset_download_files(sales.ref, path = 'dataset/', unzip = True)\n",
    "    "
   ]
  },
  {
   "cell_type": "code",
   "execution_count": 7,
   "id": "e5f6fcd6",
   "metadata": {},
   "outputs": [
    {
     "data": {
      "text/html": [
       "<div>\n",
       "<style scoped>\n",
       "    .dataframe tbody tr th:only-of-type {\n",
       "        vertical-align: middle;\n",
       "    }\n",
       "\n",
       "    .dataframe tbody tr th {\n",
       "        vertical-align: top;\n",
       "    }\n",
       "\n",
       "    .dataframe thead th {\n",
       "        text-align: right;\n",
       "    }\n",
       "</style>\n",
       "<table border=\"1\" class=\"dataframe\">\n",
       "  <thead>\n",
       "    <tr style=\"text-align: right;\">\n",
       "      <th></th>\n",
       "      <th>Invoice ID</th>\n",
       "      <th>Branch</th>\n",
       "      <th>City</th>\n",
       "      <th>Customer type</th>\n",
       "      <th>Gender</th>\n",
       "      <th>Product line</th>\n",
       "      <th>Unit price</th>\n",
       "      <th>Quantity</th>\n",
       "      <th>Tax 5%</th>\n",
       "      <th>Total</th>\n",
       "      <th>Date</th>\n",
       "      <th>Time</th>\n",
       "      <th>Payment</th>\n",
       "      <th>cogs</th>\n",
       "      <th>gross margin percentage</th>\n",
       "      <th>gross income</th>\n",
       "      <th>Rating</th>\n",
       "    </tr>\n",
       "  </thead>\n",
       "  <tbody>\n",
       "    <tr>\n",
       "      <th>0</th>\n",
       "      <td>750-67-8428</td>\n",
       "      <td>A</td>\n",
       "      <td>Yangon</td>\n",
       "      <td>Member</td>\n",
       "      <td>Female</td>\n",
       "      <td>Health and beauty</td>\n",
       "      <td>74.69</td>\n",
       "      <td>7</td>\n",
       "      <td>26.1415</td>\n",
       "      <td>548.9715</td>\n",
       "      <td>1/5/2019</td>\n",
       "      <td>13:08</td>\n",
       "      <td>Ewallet</td>\n",
       "      <td>522.83</td>\n",
       "      <td>4.761905</td>\n",
       "      <td>26.1415</td>\n",
       "      <td>9.1</td>\n",
       "    </tr>\n",
       "    <tr>\n",
       "      <th>1</th>\n",
       "      <td>226-31-3081</td>\n",
       "      <td>C</td>\n",
       "      <td>Naypyitaw</td>\n",
       "      <td>Normal</td>\n",
       "      <td>Female</td>\n",
       "      <td>Electronic accessories</td>\n",
       "      <td>15.28</td>\n",
       "      <td>5</td>\n",
       "      <td>3.8200</td>\n",
       "      <td>80.2200</td>\n",
       "      <td>3/8/2019</td>\n",
       "      <td>10:29</td>\n",
       "      <td>Cash</td>\n",
       "      <td>76.40</td>\n",
       "      <td>4.761905</td>\n",
       "      <td>3.8200</td>\n",
       "      <td>9.6</td>\n",
       "    </tr>\n",
       "    <tr>\n",
       "      <th>2</th>\n",
       "      <td>631-41-3108</td>\n",
       "      <td>A</td>\n",
       "      <td>Yangon</td>\n",
       "      <td>Normal</td>\n",
       "      <td>Male</td>\n",
       "      <td>Home and lifestyle</td>\n",
       "      <td>46.33</td>\n",
       "      <td>7</td>\n",
       "      <td>16.2155</td>\n",
       "      <td>340.5255</td>\n",
       "      <td>3/3/2019</td>\n",
       "      <td>13:23</td>\n",
       "      <td>Credit card</td>\n",
       "      <td>324.31</td>\n",
       "      <td>4.761905</td>\n",
       "      <td>16.2155</td>\n",
       "      <td>7.4</td>\n",
       "    </tr>\n",
       "    <tr>\n",
       "      <th>3</th>\n",
       "      <td>123-19-1176</td>\n",
       "      <td>A</td>\n",
       "      <td>Yangon</td>\n",
       "      <td>Member</td>\n",
       "      <td>Male</td>\n",
       "      <td>Health and beauty</td>\n",
       "      <td>58.22</td>\n",
       "      <td>8</td>\n",
       "      <td>23.2880</td>\n",
       "      <td>489.0480</td>\n",
       "      <td>1/27/2019</td>\n",
       "      <td>20:33</td>\n",
       "      <td>Ewallet</td>\n",
       "      <td>465.76</td>\n",
       "      <td>4.761905</td>\n",
       "      <td>23.2880</td>\n",
       "      <td>8.4</td>\n",
       "    </tr>\n",
       "    <tr>\n",
       "      <th>4</th>\n",
       "      <td>373-73-7910</td>\n",
       "      <td>A</td>\n",
       "      <td>Yangon</td>\n",
       "      <td>Normal</td>\n",
       "      <td>Male</td>\n",
       "      <td>Sports and travel</td>\n",
       "      <td>86.31</td>\n",
       "      <td>7</td>\n",
       "      <td>30.2085</td>\n",
       "      <td>634.3785</td>\n",
       "      <td>2/8/2019</td>\n",
       "      <td>10:37</td>\n",
       "      <td>Ewallet</td>\n",
       "      <td>604.17</td>\n",
       "      <td>4.761905</td>\n",
       "      <td>30.2085</td>\n",
       "      <td>5.3</td>\n",
       "    </tr>\n",
       "  </tbody>\n",
       "</table>\n",
       "</div>"
      ],
      "text/plain": [
       "    Invoice ID Branch       City Customer type  Gender  \\\n",
       "0  750-67-8428      A     Yangon        Member  Female   \n",
       "1  226-31-3081      C  Naypyitaw        Normal  Female   \n",
       "2  631-41-3108      A     Yangon        Normal    Male   \n",
       "3  123-19-1176      A     Yangon        Member    Male   \n",
       "4  373-73-7910      A     Yangon        Normal    Male   \n",
       "\n",
       "             Product line  Unit price  Quantity   Tax 5%     Total       Date  \\\n",
       "0       Health and beauty       74.69         7  26.1415  548.9715   1/5/2019   \n",
       "1  Electronic accessories       15.28         5   3.8200   80.2200   3/8/2019   \n",
       "2      Home and lifestyle       46.33         7  16.2155  340.5255   3/3/2019   \n",
       "3       Health and beauty       58.22         8  23.2880  489.0480  1/27/2019   \n",
       "4       Sports and travel       86.31         7  30.2085  634.3785   2/8/2019   \n",
       "\n",
       "    Time      Payment    cogs  gross margin percentage  gross income  Rating  \n",
       "0  13:08      Ewallet  522.83                 4.761905       26.1415     9.1  \n",
       "1  10:29         Cash   76.40                 4.761905        3.8200     9.6  \n",
       "2  13:23  Credit card  324.31                 4.761905       16.2155     7.4  \n",
       "3  20:33      Ewallet  465.76                 4.761905       23.2880     8.4  \n",
       "4  10:37      Ewallet  604.17                 4.761905       30.2085     5.3  "
      ]
     },
     "execution_count": 7,
     "metadata": {},
     "output_type": "execute_result"
    }
   ],
   "source": [
    "df_supermarket = pd.read_csv('dataset/supermarket_sales - Sheet1.csv')\n",
    "df_supermarket.head()"
   ]
  },
  {
   "cell_type": "code",
   "execution_count": 8,
   "id": "88891593",
   "metadata": {},
   "outputs": [
    {
     "data": {
      "text/html": [
       "<div>\n",
       "<style scoped>\n",
       "    .dataframe tbody tr th:only-of-type {\n",
       "        vertical-align: middle;\n",
       "    }\n",
       "\n",
       "    .dataframe tbody tr th {\n",
       "        vertical-align: top;\n",
       "    }\n",
       "\n",
       "    .dataframe thead th {\n",
       "        text-align: right;\n",
       "    }\n",
       "</style>\n",
       "<table border=\"1\" class=\"dataframe\">\n",
       "  <thead>\n",
       "    <tr style=\"text-align: right;\">\n",
       "      <th></th>\n",
       "      <th>Store</th>\n",
       "      <th>Date</th>\n",
       "      <th>Weekly_Sales</th>\n",
       "      <th>Holiday_Flag</th>\n",
       "      <th>Temperature</th>\n",
       "      <th>Fuel_Price</th>\n",
       "      <th>CPI</th>\n",
       "      <th>Unemployment</th>\n",
       "    </tr>\n",
       "  </thead>\n",
       "  <tbody>\n",
       "    <tr>\n",
       "      <th>0</th>\n",
       "      <td>1</td>\n",
       "      <td>05-02-2010</td>\n",
       "      <td>1643690.90</td>\n",
       "      <td>0</td>\n",
       "      <td>42.31</td>\n",
       "      <td>2.572</td>\n",
       "      <td>211.096358</td>\n",
       "      <td>8.106</td>\n",
       "    </tr>\n",
       "    <tr>\n",
       "      <th>1</th>\n",
       "      <td>1</td>\n",
       "      <td>12-02-2010</td>\n",
       "      <td>1641957.44</td>\n",
       "      <td>1</td>\n",
       "      <td>38.51</td>\n",
       "      <td>2.548</td>\n",
       "      <td>211.242170</td>\n",
       "      <td>8.106</td>\n",
       "    </tr>\n",
       "    <tr>\n",
       "      <th>2</th>\n",
       "      <td>1</td>\n",
       "      <td>19-02-2010</td>\n",
       "      <td>1611968.17</td>\n",
       "      <td>0</td>\n",
       "      <td>39.93</td>\n",
       "      <td>2.514</td>\n",
       "      <td>211.289143</td>\n",
       "      <td>8.106</td>\n",
       "    </tr>\n",
       "    <tr>\n",
       "      <th>3</th>\n",
       "      <td>1</td>\n",
       "      <td>26-02-2010</td>\n",
       "      <td>1409727.59</td>\n",
       "      <td>0</td>\n",
       "      <td>46.63</td>\n",
       "      <td>2.561</td>\n",
       "      <td>211.319643</td>\n",
       "      <td>8.106</td>\n",
       "    </tr>\n",
       "    <tr>\n",
       "      <th>4</th>\n",
       "      <td>1</td>\n",
       "      <td>05-03-2010</td>\n",
       "      <td>1554806.68</td>\n",
       "      <td>0</td>\n",
       "      <td>46.50</td>\n",
       "      <td>2.625</td>\n",
       "      <td>211.350143</td>\n",
       "      <td>8.106</td>\n",
       "    </tr>\n",
       "  </tbody>\n",
       "</table>\n",
       "</div>"
      ],
      "text/plain": [
       "   Store        Date  Weekly_Sales  Holiday_Flag  Temperature  Fuel_Price  \\\n",
       "0      1  05-02-2010    1643690.90             0        42.31       2.572   \n",
       "1      1  12-02-2010    1641957.44             1        38.51       2.548   \n",
       "2      1  19-02-2010    1611968.17             0        39.93       2.514   \n",
       "3      1  26-02-2010    1409727.59             0        46.63       2.561   \n",
       "4      1  05-03-2010    1554806.68             0        46.50       2.625   \n",
       "\n",
       "          CPI  Unemployment  \n",
       "0  211.096358         8.106  \n",
       "1  211.242170         8.106  \n",
       "2  211.289143         8.106  \n",
       "3  211.319643         8.106  \n",
       "4  211.350143         8.106  "
      ]
     },
     "execution_count": 8,
     "metadata": {},
     "output_type": "execute_result"
    }
   ],
   "source": [
    "df_walmart = pd.read_csv('dataset/Walmart_Sales.csv')\n",
    "df_walmart.head()"
   ]
  },
  {
   "cell_type": "code",
   "execution_count": 9,
   "id": "97f83667",
   "metadata": {},
   "outputs": [],
   "source": [
    "dataset_columns = {}\n",
    "dataset_columns['supermarket_sales - Sheet1.csv'] = []\n",
    "dataset_columns['Walmart_Sales.csv'] = []\n",
    "dataset_columns['index.csv'] = []\n",
    "dataset_columns['amazon.csv'] = []\n",
    "dataset_columns['vgsales.csv'] = []\n",
    "dataset_columns['train.csv'] = []\n",
    "dataset_columns['Superstore.csv'] = []\n",
    "dataset_columns['car_prices.csv'] = []\n",
    "dataset_columns['Superstore.xlsx'] = []\n",
    "dataset_columns['Bakery price.csv'] = []\n",
    "dataset_columns['Bakery Sales.csv'] = []\n",
    "dataset_columns['features.csv'] = []\n",
    "dataset_columns['stores.csv'] = []\n",
    "dataset_columns['test.csv'] = []\n",
    "dataset_columns['nyc-rolling-sales.csv'] = []\n",
    "dataset_columns['sales_data_sample.csv'] = []\n",
    "dataset_columns['Car_sales.csv'] = []\n",
    "dataset_columns['retail_sales_dataset.csv'] = []\n",
    "dataset_columns['Auto Sales data.csv'] = []\n",
    "dataset_columns['Amazon Sale Report.csv'] = []\n",
    "dataset_columns['Cloud Warehouse Compersion Chart.csv'] = []\n",
    "dataset_columns['Expense IIGF.csv'] = []\n",
    "dataset_columns['International sale Report.csv'] = []\n",
    "dataset_columns['May-2022.csv'] = []\n",
    "dataset_columns['P  L March 2021.csv'] = []\n",
    "dataset_columns['Sale Report.csv'] = []\n",
    "dataset_columns['salesdaily.csv'] = []\n",
    "dataset_columns['saleshourly.csv'] = []\n",
    "dataset_columns['salesmonthly.csv'] = []\n",
    "dataset_columns['salesweekly.csv'] = []\n",
    "dataset_columns['Sales_with_NaNs_v1.3.csv'] = []\n",
    "dataset_columns['Sales_without_NaNs_v1.3.csv'] = []\n",
    "dataset_columns['zara.csv'] = []\n",
    "dataset_columns['Car Sales.xlsx - car_data.csv'] = []"
   ]
  },
  {
   "cell_type": "code",
   "execution_count": 10,
   "id": "74e38ee9",
   "metadata": {
    "scrolled": false
   },
   "outputs": [
    {
     "name": "stdout",
     "output_type": "stream",
     "text": [
      "dataset/supermarket_sales - Sheet1.csv\n",
      "dataset/Walmart_Sales.csv\n",
      "dataset/index.csv\n",
      "dataset/amazon.csv\n",
      "dataset/vgsales.csv\n",
      "dataset/train.csv\n",
      "dataset/Superstore.csv\n",
      "dataset/car_prices.csv\n",
      "dataset/Bakery price.csv\n",
      "dataset/Bakery Sales.csv\n",
      "dataset/features.csv\n",
      "dataset/stores.csv\n",
      "dataset/test.csv\n",
      "dataset/nyc-rolling-sales.csv\n",
      "dataset/sales_data_sample.csv\n",
      "dataset/Car_sales.csv\n",
      "dataset/retail_sales_dataset.csv\n",
      "dataset/Auto Sales data.csv\n",
      "dataset/Amazon Sale Report.csv\n"
     ]
    },
    {
     "name": "stderr",
     "output_type": "stream",
     "text": [
      "/var/folders/jw/rknyb_hs2b50h1tpl5kq9_280000gp/T/ipykernel_11802/1986736062.py:8: DtypeWarning: Columns (23) have mixed types. Specify dtype option on import or set low_memory=False.\n",
      "  dataset_columns[key] = pd.read_csv('dataset/'+key).columns.to_list()\n"
     ]
    },
    {
     "name": "stdout",
     "output_type": "stream",
     "text": [
      "dataset/Cloud Warehouse Compersion Chart.csv\n",
      "dataset/Expense IIGF.csv\n",
      "dataset/International sale Report.csv\n",
      "dataset/May-2022.csv\n",
      "dataset/P  L March 2021.csv\n",
      "dataset/Sale Report.csv\n",
      "dataset/salesdaily.csv\n",
      "dataset/saleshourly.csv\n",
      "dataset/salesmonthly.csv\n",
      "dataset/salesweekly.csv\n",
      "dataset/Sales_with_NaNs_v1.3.csv\n",
      "dataset/Sales_without_NaNs_v1.3.csv\n",
      "dataset/zara.csv\n",
      "dataset/Car Sales.xlsx - car_data.csv\n"
     ]
    }
   ],
   "source": [
    "# df_superstore = pd.read_csv('dataset/Superstore.csv', encoding='latin-1')\n",
    "for key in dataset_columns:\n",
    "    if '.csv' in key:\n",
    "        read_sucess = False\n",
    "        while not read_sucess:\n",
    "            print('dataset/'+key)\n",
    "            try:\n",
    "                dataset_columns[key] = pd.read_csv('dataset/'+key).columns.to_list()\n",
    "                read_sucess = True\n",
    "            except Exception as e:\n",
    "                dataset_columns[key] = pd.read_csv('dataset/'+key, encoding = 'latin-1').columns.to_list()\n",
    "                read_sucess = True"
   ]
  },
  {
   "cell_type": "code",
   "execution_count": 11,
   "id": "daace408",
   "metadata": {},
   "outputs": [],
   "source": [
    "with open('dataset_col.json', 'w') as json_file:\n",
    "    json.dump(dataset_columns, json_file)\n"
   ]
  },
  {
   "cell_type": "code",
   "execution_count": 12,
   "id": "a6ce6cf6",
   "metadata": {},
   "outputs": [],
   "source": [
    "relevant_data = {'supermarket_sales - Sheet1.csv': {\n",
    "                                'store_id' : 1,\n",
    "                                'relevant_columns' :['Product line', 'Date', 'Quantity', 'Unit price', 'Total', 'City'],\n",
    "                                'column_rename' : {\n",
    "                                    'Product line': 'product_category',\n",
    "                                    'Date' : 'purchase_date',\n",
    "                                    'Quantity' : 'purchase_quantity',\n",
    "                                    'Unit price': 'unit_price',\n",
    "                                    'Total' : 'total_price',\n",
    "                                    'City' : 'city'\n",
    "                                }\n",
    "    \n",
    "                            }, \n",
    "                 'Superstore.csv' : {\n",
    "                         'store_id': 2,\n",
    "                         'relevant_columns' :['Category','Order Date', 'Quantity','Sales','City'],\n",
    "                         'column_rename' : {\n",
    "                             'Category' : 'product_category',\n",
    "                             'Order Date' : 'purchase_date',\n",
    "                             'Quantity' : 'purchase_quantity',\n",
    "                             'Sales' : 'total_price',\n",
    "                             'City' : 'city'\n",
    "                         }\n",
    "                     },\n",
    "                 'sales_data_sample.csv': {\n",
    "                         'store_id' :3,\n",
    "                         'relevant_columns' :['PRODUCTLINE','ORDERDATE','QUANTITYORDERED','MSRP','SALES','CITY' ],\n",
    "                         'column_rename' : {\n",
    "                             'PRODUCTLINE' : 'product_category',\n",
    "                             'ORDERDATE' : 'purchase_date', \n",
    "                             'QUANTITYORDERED' : 'purchase_quantity',\n",
    "                             'MSRP' : 'unit_price',\n",
    "                             'SALES' : 'total_price',\n",
    "                             'CITY' : 'city'\n",
    "                         }    \n",
    "                     },\n",
    "                 'retail_sales_dataset.csv': {\n",
    "                     'store_id' : 4,\n",
    "                     'relevant_columns' :['Product Category','Date', 'Quantity', 'Price per Unit', 'Total Amount'],\n",
    "                     'column_rename' : {\n",
    "                         'Product Category' : 'product_category',\n",
    "                         'Date' : 'purchase_date',\n",
    "                         'Quantity' : 'purchase_quantity',\n",
    "                         'Price per Unit' : 'unit_price',\n",
    "                         'Total Amount' : 'total_price'\n",
    "                     }\n",
    "                },\n",
    "                 'Amazon Sale Report.csv': {\n",
    "                     'store_id' : 5,\n",
    "                     'relevant_columns' :['Category', 'Date','Qty','Amount','ship-city'],\n",
    "                     'column_rename' : {\n",
    "                         'Category' : 'product_category',\n",
    "                         'Date' : 'purchase_date',\n",
    "                         'Qty' : 'purchase_quantity',\n",
    "                         'Amount' : 'total_price',\n",
    "                         'ship-city' : 'city'\n",
    "                     }\n",
    "                     \n",
    "                 }\n",
    "                }\n",
    "            \n"
   ]
  },
  {
   "cell_type": "code",
   "execution_count": 13,
   "id": "5c09ab24",
   "metadata": {},
   "outputs": [],
   "source": [
    "def create_connection(host, user, password, database, port):\n",
    "\n",
    "    try:\n",
    "        print(\"trying to establish the connection\")\n",
    "        conn = mysql.connector.connect(\n",
    "            host = host,\n",
    "            user = user,\n",
    "            password = password,\n",
    "            database = database,\n",
    "            port = port\n",
    "        )\n",
    "\n",
    "        if conn.is_connected():\n",
    "            print(\"Connected Sucessfully\")\n",
    "            return conn\n",
    "\n",
    "    except Error as e:\n",
    "        print(f\"Error: {e}\")\n",
    "        return None\n",
    "    \n",
    "   "
   ]
  },
  {
   "cell_type": "code",
   "execution_count": 14,
   "id": "9757c406",
   "metadata": {},
   "outputs": [],
   "source": [
    "host = \"REPLACEME\"\n",
    "user = \"REPLACEME\"\n",
    "password = \"REPLACEME\"\n",
    "database = \"REPLACEME\"\n",
    "port = \"REPLACEME\""
   ]
  },
  {
   "cell_type": "code",
   "execution_count": 17,
   "id": "1ca74642",
   "metadata": {},
   "outputs": [
    {
     "name": "stdout",
     "output_type": "stream",
     "text": [
      "trying to establish the connection\n",
      "Connected Sucessfully\n"
     ]
    }
   ],
   "source": [
    "conn = create_connection(host, user, password, database, port)\n",
    "\n",
    "create_table_query = \"\"\"\n",
    "                        DROP TABLE IF EXISTS sales;\n",
    "\n",
    "                        CREATE TABLE IF NOT EXISTS sales (\n",
    "                            store_id INT,\n",
    "                            product_category VARCHAR(100),\n",
    "                            purchase_date DATETIME,\n",
    "                            purchase_quantity FLOAT,\n",
    "                            unit_price FLOAT,\n",
    "                            total_price FLOAT,\n",
    "                            city VARCHAR(50)\n",
    "                        );\n",
    "                    \"\"\"\n",
    "\n",
    "cursor = conn.cursor(buffered=True)\n",
    "cursor.execute(create_table_query)\n",
    "cursor.reset()\n",
    "cursor.close()\n",
    "conn.close()"
   ]
  },
  {
   "cell_type": "code",
   "execution_count": 19,
   "id": "af2df332",
   "metadata": {
    "scrolled": false
   },
   "outputs": [
    {
     "name": "stdout",
     "output_type": "stream",
     "text": [
      "Sucessfully written\n",
      "Sucessfully written\n"
     ]
    },
    {
     "name": "stderr",
     "output_type": "stream",
     "text": [
      "/var/folders/jw/rknyb_hs2b50h1tpl5kq9_280000gp/T/ipykernel_11802/2469376408.py:23: UserWarning: Parsing dates in %m/%d/%Y %H:%M format when dayfirst=True was specified. Pass `dayfirst=False` or specify a format to silence this warning.\n",
      "  df_tempread['purchase_date'] = pd.to_datetime(df_tempread['purchase_date'], errors='coerce', dayfirst=True)\n"
     ]
    },
    {
     "name": "stdout",
     "output_type": "stream",
     "text": [
      "Sucessfully written\n"
     ]
    },
    {
     "name": "stderr",
     "output_type": "stream",
     "text": [
      "/var/folders/jw/rknyb_hs2b50h1tpl5kq9_280000gp/T/ipykernel_11802/2469376408.py:23: UserWarning: Parsing dates in %Y-%m-%d format when dayfirst=True was specified. Pass `dayfirst=False` or specify a format to silence this warning.\n",
      "  df_tempread['purchase_date'] = pd.to_datetime(df_tempread['purchase_date'], errors='coerce', dayfirst=True)\n"
     ]
    },
    {
     "name": "stdout",
     "output_type": "stream",
     "text": [
      "Sucessfully written\n"
     ]
    },
    {
     "name": "stderr",
     "output_type": "stream",
     "text": [
      "/var/folders/jw/rknyb_hs2b50h1tpl5kq9_280000gp/T/ipykernel_11802/2469376408.py:11: DtypeWarning: Columns (23) have mixed types. Specify dtype option on import or set low_memory=False.\n",
      "  df_tempread = pd.read_csv('dataset/'+key)\n",
      "/var/folders/jw/rknyb_hs2b50h1tpl5kq9_280000gp/T/ipykernel_11802/2469376408.py:23: UserWarning: Could not infer format, so each element will be parsed individually, falling back to `dateutil`. To ensure parsing is consistent and as-expected, please specify a format.\n",
      "  df_tempread['purchase_date'] = pd.to_datetime(df_tempread['purchase_date'], errors='coerce', dayfirst=True)\n"
     ]
    },
    {
     "name": "stdout",
     "output_type": "stream",
     "text": [
      "Sucessfully written\n"
     ]
    }
   ],
   "source": [
    "df_tempread = pd.DataFrame()\n",
    "\n",
    "\n",
    "database_uri = \"mysql+pymysql://{}:{}@{}:{}/{}\".format(user,password,host,port,database)\n",
    "engine = create_engine(database_uri)\n",
    "\n",
    "for key in relevant_data:\n",
    "    read_sucess = False\n",
    "    while not read_sucess:\n",
    "        try:\n",
    "            df_tempread = pd.read_csv('dataset/'+key)\n",
    "            read_sucess = True\n",
    "        except Exception as e:\n",
    "            df_tempread = pd.read_csv('dataset/'+key, encoding = 'latin-1')\n",
    "            read_sucess = True\n",
    "            \n",
    "    relevant_columns = relevant_data[key]['relevant_columns']\n",
    "    df_tempread = df_tempread[relevant_columns]\n",
    "    store_id = relevant_data[key]['store_id']\n",
    "    df_tempread['store_id'] = store_id\n",
    "    rename_columns = relevant_data[key]['column_rename']\n",
    "    df_tempread.rename(columns=rename_columns, inplace=True)\n",
    "    df_tempread['purchase_date'] = pd.to_datetime(df_tempread['purchase_date'], errors='coerce', dayfirst=True)\n",
    "    try:\n",
    "        df_tempread.to_sql(\"sales\", con=engine, if_exists='append', index=False)\n",
    "        print(\"Sucessfully written\")\n",
    "    except Error as e:\n",
    "        print(e)\n",
    "        break\n",
    "\n",
    "engine.dispose()"
   ]
  },
  {
   "cell_type": "code",
   "execution_count": 20,
   "id": "65b29ca5",
   "metadata": {},
   "outputs": [
    {
     "name": "stdout",
     "output_type": "stream",
     "text": [
      "trying to establish the connection\n",
      "Connected Sucessfully\n"
     ]
    }
   ],
   "source": [
    "conn = create_connection(host, user, password, database, port)\n",
    "cursor = conn.cursor();\n",
    "cursor.execute(\"SELECT * FROM sales;\")\n",
    "sales_result = cursor.fetchall();\n",
    "cursor.close()\n",
    "conn.close()\n"
   ]
  },
  {
   "cell_type": "code",
   "execution_count": 21,
   "id": "b94c8623",
   "metadata": {
    "scrolled": true
   },
   "outputs": [
    {
     "name": "stdout",
     "output_type": "stream",
     "text": [
      "(1, 'Health and beauty', datetime.datetime(2019, 1, 5, 0, 0), 7.0, 74.69, 548.971, 'Yangon')\n"
     ]
    }
   ],
   "source": [
    "print(sales_result[0])"
   ]
  },
  {
   "cell_type": "code",
   "execution_count": 32,
   "id": "be9dcb95",
   "metadata": {
    "scrolled": false
   },
   "outputs": [],
   "source": [
    "engine = create_engine(database_uri)\n",
    "select_query = \"\"\"\n",
    "                    SELECT * FROM (SELECT store_id, product_category,purchase_date, unit_price, total_price, city,\n",
    "                    CASE\n",
    "                        WHEN purchase_quantity IS NOT NULL \n",
    "                            THEN purchase_quantity\n",
    "                        WHEN  unit_price  IS NOT NULL AND unit_price > 0 AND  total_price IS NOT NULL\n",
    "                            THEN total_price/unit_price\n",
    "                        ELSE\n",
    "                            NULL\n",
    "                    END quantity\n",
    "                    FROM sales) as s\n",
    "                    WHERE quantity IS NOT NULL\n",
    "\"\"\"\n",
    "\n",
    "df_sales = pd.read_sql(select_query, con=engine)"
   ]
  },
  {
   "cell_type": "code",
   "execution_count": 33,
   "id": "759446de",
   "metadata": {},
   "outputs": [],
   "source": [
    "df_sales.to_csv(\"Sales.csv\", index = False)"
   ]
  },
  {
   "cell_type": "code",
   "execution_count": null,
   "id": "cee28280",
   "metadata": {},
   "outputs": [],
   "source": []
  }
 ],
 "metadata": {
  "kernelspec": {
   "display_name": "Python 3 (ipykernel)",
   "language": "python",
   "name": "python3"
  },
  "language_info": {
   "codemirror_mode": {
    "name": "ipython",
    "version": 3
   },
   "file_extension": ".py",
   "mimetype": "text/x-python",
   "name": "python",
   "nbconvert_exporter": "python",
   "pygments_lexer": "ipython3",
   "version": "3.11.4"
  }
 },
 "nbformat": 4,
 "nbformat_minor": 5
}
